{
 "cells": [
  {
   "cell_type": "markdown",
   "metadata": {},
   "source": [
    "I'll do some initial exploration of the data to get an overview of what the reviews look like, what sort of things commonly arise in the data, and if there is anything unusual that I notice. "
   ]
  },
  {
   "cell_type": "code",
   "execution_count": 1,
   "metadata": {
    "collapsed": true
   },
   "outputs": [],
   "source": [
    "import numpy as np\n",
    "import pandas as pd\n",
    "from time import time\n",
    "\n",
    "import matplotlib\n",
    "import matplotlib.pyplot as plt\n",
    "import seaborn as sns\n",
    "%matplotlib inline"
   ]
  },
  {
   "cell_type": "code",
   "execution_count": 2,
   "metadata": {
    "collapsed": true
   },
   "outputs": [],
   "source": [
    "data = pd.read_csv('zoc_doc_reviews_Manhattan.csv')"
   ]
  },
  {
   "cell_type": "code",
   "execution_count": 3,
   "metadata": {},
   "outputs": [],
   "source": [
    "data.drop(['Unnamed: 0'], inplace=True, axis=1)\n",
    "data.drop_duplicates(inplace=True)\n",
    "data.reset_index(inplace=True,drop=True)"
   ]
  },
  {
   "cell_type": "code",
   "execution_count": 4,
   "metadata": {},
   "outputs": [
    {
     "data": {
      "text/html": [
       "<div>\n",
       "<style>\n",
       "    .dataframe thead tr:only-child th {\n",
       "        text-align: right;\n",
       "    }\n",
       "\n",
       "    .dataframe thead th {\n",
       "        text-align: left;\n",
       "    }\n",
       "\n",
       "    .dataframe tbody tr th {\n",
       "        vertical-align: top;\n",
       "    }\n",
       "</style>\n",
       "<table border=\"1\" class=\"dataframe\">\n",
       "  <thead>\n",
       "    <tr style=\"text-align: right;\">\n",
       "      <th></th>\n",
       "      <th>Doctor</th>\n",
       "      <th>Author</th>\n",
       "      <th>Date</th>\n",
       "      <th>Verification</th>\n",
       "      <th>Review</th>\n",
       "      <th>Overall_Rating</th>\n",
       "      <th>Bedside_Manner_Rating</th>\n",
       "      <th>Wait_Time_Rating</th>\n",
       "    </tr>\n",
       "  </thead>\n",
       "  <tbody>\n",
       "    <tr>\n",
       "      <th>0</th>\n",
       "      <td>Dr. Denise Pate</td>\n",
       "      <td>NaN</td>\n",
       "      <td>December 27, 2017</td>\n",
       "      <td>by a Verified Patient</td>\n",
       "      <td>Great experience! The office is beautiful and ...</td>\n",
       "      <td>5</td>\n",
       "      <td>5.0</td>\n",
       "      <td>5.0</td>\n",
       "    </tr>\n",
       "    <tr>\n",
       "      <th>1</th>\n",
       "      <td>Dr. Denise Pate</td>\n",
       "      <td>by Natalie S.</td>\n",
       "      <td>December 7, 2017</td>\n",
       "      <td>(Verified Patient)</td>\n",
       "      <td>Dr. Pate was kind, welcoming and made me feel ...</td>\n",
       "      <td>5</td>\n",
       "      <td>5.0</td>\n",
       "      <td>5.0</td>\n",
       "    </tr>\n",
       "    <tr>\n",
       "      <th>2</th>\n",
       "      <td>Dr. Denise Pate</td>\n",
       "      <td>NaN</td>\n",
       "      <td>Less than 3 months ago</td>\n",
       "      <td>by a Verified Patient</td>\n",
       "      <td>Very thorough but efficient appointment, great...</td>\n",
       "      <td>5</td>\n",
       "      <td>5.0</td>\n",
       "      <td>4.0</td>\n",
       "    </tr>\n",
       "    <tr>\n",
       "      <th>3</th>\n",
       "      <td>Dr. Denise Pate</td>\n",
       "      <td>NaN</td>\n",
       "      <td>November 3, 2017</td>\n",
       "      <td>by a Verified Patient</td>\n",
       "      <td>She was very sweet and efficient. I would high...</td>\n",
       "      <td>5</td>\n",
       "      <td>5.0</td>\n",
       "      <td>4.0</td>\n",
       "    </tr>\n",
       "    <tr>\n",
       "      <th>4</th>\n",
       "      <td>Dr. Denise Pate</td>\n",
       "      <td>NaN</td>\n",
       "      <td>October 16, 2017</td>\n",
       "      <td>by a Verified Patient</td>\n",
       "      <td>Dr. Pate is exactly what you want in a primary...</td>\n",
       "      <td>5</td>\n",
       "      <td>5.0</td>\n",
       "      <td>5.0</td>\n",
       "    </tr>\n",
       "  </tbody>\n",
       "</table>\n",
       "</div>"
      ],
      "text/plain": [
       "            Doctor         Author                    Date  \\\n",
       "0  Dr. Denise Pate            NaN       December 27, 2017   \n",
       "1  Dr. Denise Pate  by Natalie S.        December 7, 2017   \n",
       "2  Dr. Denise Pate            NaN  Less than 3 months ago   \n",
       "3  Dr. Denise Pate            NaN        November 3, 2017   \n",
       "4  Dr. Denise Pate            NaN        October 16, 2017   \n",
       "\n",
       "            Verification                                             Review  \\\n",
       "0  by a Verified Patient  Great experience! The office is beautiful and ...   \n",
       "1     (Verified Patient)  Dr. Pate was kind, welcoming and made me feel ...   \n",
       "2  by a Verified Patient  Very thorough but efficient appointment, great...   \n",
       "3  by a Verified Patient  She was very sweet and efficient. I would high...   \n",
       "4  by a Verified Patient  Dr. Pate is exactly what you want in a primary...   \n",
       "\n",
       "   Overall_Rating  Bedside_Manner_Rating  Wait_Time_Rating  \n",
       "0               5                    5.0               5.0  \n",
       "1               5                    5.0               5.0  \n",
       "2               5                    5.0               4.0  \n",
       "3               5                    5.0               4.0  \n",
       "4               5                    5.0               5.0  "
      ]
     },
     "execution_count": 4,
     "metadata": {},
     "output_type": "execute_result"
    }
   ],
   "source": [
    "data.head()"
   ]
  },
  {
   "cell_type": "code",
   "execution_count": 5,
   "metadata": {},
   "outputs": [
    {
     "data": {
      "text/html": [
       "<div>\n",
       "<style>\n",
       "    .dataframe thead tr:only-child th {\n",
       "        text-align: right;\n",
       "    }\n",
       "\n",
       "    .dataframe thead th {\n",
       "        text-align: left;\n",
       "    }\n",
       "\n",
       "    .dataframe tbody tr th {\n",
       "        vertical-align: top;\n",
       "    }\n",
       "</style>\n",
       "<table border=\"1\" class=\"dataframe\">\n",
       "  <thead>\n",
       "    <tr style=\"text-align: right;\">\n",
       "      <th></th>\n",
       "      <th>Doctor</th>\n",
       "      <th>Author</th>\n",
       "      <th>Date</th>\n",
       "      <th>Verification</th>\n",
       "      <th>Review</th>\n",
       "      <th>Overall_Rating</th>\n",
       "      <th>Bedside_Manner_Rating</th>\n",
       "      <th>Wait_Time_Rating</th>\n",
       "    </tr>\n",
       "  </thead>\n",
       "  <tbody>\n",
       "    <tr>\n",
       "      <th>count</th>\n",
       "      <td>80615</td>\n",
       "      <td>51490</td>\n",
       "      <td>80615</td>\n",
       "      <td>80574</td>\n",
       "      <td>35876</td>\n",
       "      <td>80615.000000</td>\n",
       "      <td>80335.000000</td>\n",
       "      <td>80335.000000</td>\n",
       "    </tr>\n",
       "    <tr>\n",
       "      <th>unique</th>\n",
       "      <td>234</td>\n",
       "      <td>21823</td>\n",
       "      <td>2899</td>\n",
       "      <td>2</td>\n",
       "      <td>35034</td>\n",
       "      <td>NaN</td>\n",
       "      <td>NaN</td>\n",
       "      <td>NaN</td>\n",
       "    </tr>\n",
       "    <tr>\n",
       "      <th>top</th>\n",
       "      <td>Dr. Jeremy Stoepker</td>\n",
       "      <td>by Michael S.</td>\n",
       "      <td>More than a year ago</td>\n",
       "      <td>(Verified Patient)</td>\n",
       "      <td>Excellent</td>\n",
       "      <td>NaN</td>\n",
       "      <td>NaN</td>\n",
       "      <td>NaN</td>\n",
       "    </tr>\n",
       "    <tr>\n",
       "      <th>freq</th>\n",
       "      <td>2550</td>\n",
       "      <td>84</td>\n",
       "      <td>10616</td>\n",
       "      <td>51449</td>\n",
       "      <td>48</td>\n",
       "      <td>NaN</td>\n",
       "      <td>NaN</td>\n",
       "      <td>NaN</td>\n",
       "    </tr>\n",
       "    <tr>\n",
       "      <th>mean</th>\n",
       "      <td>NaN</td>\n",
       "      <td>NaN</td>\n",
       "      <td>NaN</td>\n",
       "      <td>NaN</td>\n",
       "      <td>NaN</td>\n",
       "      <td>4.713279</td>\n",
       "      <td>4.746648</td>\n",
       "      <td>4.402004</td>\n",
       "    </tr>\n",
       "    <tr>\n",
       "      <th>std</th>\n",
       "      <td>NaN</td>\n",
       "      <td>NaN</td>\n",
       "      <td>NaN</td>\n",
       "      <td>NaN</td>\n",
       "      <td>NaN</td>\n",
       "      <td>0.788928</td>\n",
       "      <td>0.693307</td>\n",
       "      <td>0.777499</td>\n",
       "    </tr>\n",
       "    <tr>\n",
       "      <th>min</th>\n",
       "      <td>NaN</td>\n",
       "      <td>NaN</td>\n",
       "      <td>NaN</td>\n",
       "      <td>NaN</td>\n",
       "      <td>NaN</td>\n",
       "      <td>1.000000</td>\n",
       "      <td>1.000000</td>\n",
       "      <td>1.000000</td>\n",
       "    </tr>\n",
       "    <tr>\n",
       "      <th>25%</th>\n",
       "      <td>NaN</td>\n",
       "      <td>NaN</td>\n",
       "      <td>NaN</td>\n",
       "      <td>NaN</td>\n",
       "      <td>NaN</td>\n",
       "      <td>5.000000</td>\n",
       "      <td>5.000000</td>\n",
       "      <td>4.000000</td>\n",
       "    </tr>\n",
       "    <tr>\n",
       "      <th>50%</th>\n",
       "      <td>NaN</td>\n",
       "      <td>NaN</td>\n",
       "      <td>NaN</td>\n",
       "      <td>NaN</td>\n",
       "      <td>NaN</td>\n",
       "      <td>5.000000</td>\n",
       "      <td>5.000000</td>\n",
       "      <td>5.000000</td>\n",
       "    </tr>\n",
       "    <tr>\n",
       "      <th>75%</th>\n",
       "      <td>NaN</td>\n",
       "      <td>NaN</td>\n",
       "      <td>NaN</td>\n",
       "      <td>NaN</td>\n",
       "      <td>NaN</td>\n",
       "      <td>5.000000</td>\n",
       "      <td>5.000000</td>\n",
       "      <td>5.000000</td>\n",
       "    </tr>\n",
       "    <tr>\n",
       "      <th>max</th>\n",
       "      <td>NaN</td>\n",
       "      <td>NaN</td>\n",
       "      <td>NaN</td>\n",
       "      <td>NaN</td>\n",
       "      <td>NaN</td>\n",
       "      <td>5.000000</td>\n",
       "      <td>5.000000</td>\n",
       "      <td>5.000000</td>\n",
       "    </tr>\n",
       "  </tbody>\n",
       "</table>\n",
       "</div>"
      ],
      "text/plain": [
       "                     Doctor         Author                  Date  \\\n",
       "count                 80615          51490                 80615   \n",
       "unique                  234          21823                  2899   \n",
       "top     Dr. Jeremy Stoepker  by Michael S.  More than a year ago   \n",
       "freq                   2550             84                 10616   \n",
       "mean                    NaN            NaN                   NaN   \n",
       "std                     NaN            NaN                   NaN   \n",
       "min                     NaN            NaN                   NaN   \n",
       "25%                     NaN            NaN                   NaN   \n",
       "50%                     NaN            NaN                   NaN   \n",
       "75%                     NaN            NaN                   NaN   \n",
       "max                     NaN            NaN                   NaN   \n",
       "\n",
       "              Verification     Review  Overall_Rating  Bedside_Manner_Rating  \\\n",
       "count                80574      35876    80615.000000           80335.000000   \n",
       "unique                   2      35034             NaN                    NaN   \n",
       "top     (Verified Patient)  Excellent             NaN                    NaN   \n",
       "freq                 51449         48             NaN                    NaN   \n",
       "mean                   NaN        NaN        4.713279               4.746648   \n",
       "std                    NaN        NaN        0.788928               0.693307   \n",
       "min                    NaN        NaN        1.000000               1.000000   \n",
       "25%                    NaN        NaN        5.000000               5.000000   \n",
       "50%                    NaN        NaN        5.000000               5.000000   \n",
       "75%                    NaN        NaN        5.000000               5.000000   \n",
       "max                    NaN        NaN        5.000000               5.000000   \n",
       "\n",
       "        Wait_Time_Rating  \n",
       "count       80335.000000  \n",
       "unique               NaN  \n",
       "top                  NaN  \n",
       "freq                 NaN  \n",
       "mean            4.402004  \n",
       "std             0.777499  \n",
       "min             1.000000  \n",
       "25%             4.000000  \n",
       "50%             5.000000  \n",
       "75%             5.000000  \n",
       "max             5.000000  "
      ]
     },
     "execution_count": 5,
     "metadata": {},
     "output_type": "execute_result"
    }
   ],
   "source": [
    "data.describe(include='all')"
   ]
  },
  {
   "cell_type": "markdown",
   "metadata": {},
   "source": [
    "I'd like to look at how the reviews are distributed amongst the doctors. Also, some reviews are repeated - the top review is 'Excellent', which is repeated 48 times. I'm curious to see how many reviews are repeated, and how that relates to the number of words in the review. (I'm guessing one and two-word reviews get repeated a lot more than longer reviews). \n",
    "\n",
    "Also - many of the reviews have names of authors attached. It will be interesting to look at how many unique patients rate each doctor, and if patients tend to write multiple reviews. This should have something to do with patient loyalty. \n",
    "\n",
    "#### Next, I'll make a data frame to collect some summary information about each doctor. "
   ]
  },
  {
   "cell_type": "code",
   "execution_count": 6,
   "metadata": {
    "collapsed": true
   },
   "outputs": [],
   "source": [
    "doctor_list = list(data['Doctor'].unique())\n",
    "review_list = list(set(data['Review'].dropna()))"
   ]
  },
  {
   "cell_type": "code",
   "execution_count": 7,
   "metadata": {
    "collapsed": true
   },
   "outputs": [],
   "source": [
    "doctor_info = pd.DataFrame(columns=['doctor','number_of_text_reviews','total_number_of_reviews','number_of_patients'\\\n",
    "                                    ,'number_of_patients_who_post_more_than_once',\\\n",
    "                                    'overall_rating_average',\\\n",
    "                                    'overall_rating_std',\\\n",
    "                                    'bedside_manner_rating_average',\\\n",
    "                                    'bedside_manner_rating_std',\\\n",
    "                                    'wait_time_rating_average',\\\n",
    "                                    'wait_time_rating_std',\\\n",
    "                                   ])\n",
    "doctor_info['doctor'] = doctor_list"
   ]
  },
  {
   "cell_type": "code",
   "execution_count": 8,
   "metadata": {
    "collapsed": true
   },
   "outputs": [],
   "source": [
    "doctor_info['number_of_text_reviews'] = doctor_info['doctor']\\\n",
    "    .apply(lambda x: len(data.loc[data['Doctor']== x].dropna(subset=['Review'])))"
   ]
  },
  {
   "cell_type": "code",
   "execution_count": 9,
   "metadata": {
    "collapsed": true
   },
   "outputs": [],
   "source": [
    "doctor_info['total_number_of_reviews'] = doctor_info['doctor']\\\n",
    "    .apply(lambda x: len(data.loc[data['Doctor']== x]))"
   ]
  },
  {
   "cell_type": "code",
   "execution_count": 10,
   "metadata": {
    "collapsed": true
   },
   "outputs": [],
   "source": [
    "doctor_info['number_of_patients'] = doctor_info['doctor']\\\n",
    "    .apply(lambda x: len(data.loc[data['Doctor']==x,'Author'].unique()))"
   ]
  },
  {
   "cell_type": "code",
   "execution_count": 11,
   "metadata": {
    "collapsed": true
   },
   "outputs": [],
   "source": [
    "doctor_info['number_of_patients_who_post_more_than_once'] = doctor_info['doctor']\\\n",
    "    .apply(lambda x: (data.loc[data['Doctor']==x,'Author'].value_counts()>1).sum())"
   ]
  },
  {
   "cell_type": "code",
   "execution_count": 12,
   "metadata": {
    "collapsed": true
   },
   "outputs": [],
   "source": [
    "doctor_info['overall_rating_average']=doctor_info['doctor']\\\n",
    "    .apply(lambda x: data.loc[data['Doctor']==x,'Overall_Rating'].mean())"
   ]
  },
  {
   "cell_type": "code",
   "execution_count": 13,
   "metadata": {
    "collapsed": true
   },
   "outputs": [],
   "source": [
    "doctor_info['overall_rating_std']=doctor_info['doctor']\\\n",
    "    .apply(lambda x: data.loc[data['Doctor']==x,'Overall_Rating'].std())"
   ]
  },
  {
   "cell_type": "code",
   "execution_count": 14,
   "metadata": {
    "collapsed": true
   },
   "outputs": [],
   "source": [
    "doctor_info['bedside_manner_rating_average']=doctor_info['doctor']\\\n",
    "    .apply(lambda x: data.loc[data['Doctor']==x,'Bedside_Manner_Rating'].mean())"
   ]
  },
  {
   "cell_type": "code",
   "execution_count": 15,
   "metadata": {
    "collapsed": true
   },
   "outputs": [],
   "source": [
    "doctor_info['bedside_manner_rating_std']=doctor_info['doctor']\\\n",
    "    .apply(lambda x: data.loc[data['Doctor']==x,'Bedside_Manner_Rating'].std())"
   ]
  },
  {
   "cell_type": "code",
   "execution_count": 16,
   "metadata": {
    "collapsed": true
   },
   "outputs": [],
   "source": [
    "doctor_info['wait_time_rating_average']=doctor_info['doctor']\\\n",
    "    .apply(lambda x: data.loc[data['Doctor']==x,'Wait_Time_Rating'].mean())"
   ]
  },
  {
   "cell_type": "code",
   "execution_count": 17,
   "metadata": {
    "collapsed": true
   },
   "outputs": [],
   "source": [
    "doctor_info['wait_time_rating_std']=doctor_info['doctor']\\\n",
    "    .apply(lambda x: data.loc[data['Doctor']==x,'Wait_Time_Rating'].std())"
   ]
  },
  {
   "cell_type": "code",
   "execution_count": 18,
   "metadata": {
    "scrolled": true
   },
   "outputs": [
    {
     "data": {
      "text/html": [
       "<div>\n",
       "<style>\n",
       "    .dataframe thead tr:only-child th {\n",
       "        text-align: right;\n",
       "    }\n",
       "\n",
       "    .dataframe thead th {\n",
       "        text-align: left;\n",
       "    }\n",
       "\n",
       "    .dataframe tbody tr th {\n",
       "        vertical-align: top;\n",
       "    }\n",
       "</style>\n",
       "<table border=\"1\" class=\"dataframe\">\n",
       "  <thead>\n",
       "    <tr style=\"text-align: right;\">\n",
       "      <th></th>\n",
       "      <th>doctor</th>\n",
       "      <th>number_of_text_reviews</th>\n",
       "      <th>total_number_of_reviews</th>\n",
       "      <th>number_of_patients</th>\n",
       "      <th>number_of_patients_who_post_more_than_once</th>\n",
       "      <th>overall_rating_average</th>\n",
       "      <th>overall_rating_std</th>\n",
       "      <th>bedside_manner_rating_average</th>\n",
       "      <th>bedside_manner_rating_std</th>\n",
       "      <th>wait_time_rating_average</th>\n",
       "      <th>wait_time_rating_std</th>\n",
       "    </tr>\n",
       "  </thead>\n",
       "  <tbody>\n",
       "    <tr>\n",
       "      <th>count</th>\n",
       "      <td>234</td>\n",
       "      <td>234.000000</td>\n",
       "      <td>234.000000</td>\n",
       "      <td>234.000000</td>\n",
       "      <td>234.000000</td>\n",
       "      <td>234.000000</td>\n",
       "      <td>233.000000</td>\n",
       "      <td>234.000000</td>\n",
       "      <td>233.000000</td>\n",
       "      <td>234.000000</td>\n",
       "      <td>233.000000</td>\n",
       "    </tr>\n",
       "    <tr>\n",
       "      <th>unique</th>\n",
       "      <td>234</td>\n",
       "      <td>NaN</td>\n",
       "      <td>NaN</td>\n",
       "      <td>NaN</td>\n",
       "      <td>NaN</td>\n",
       "      <td>NaN</td>\n",
       "      <td>NaN</td>\n",
       "      <td>NaN</td>\n",
       "      <td>NaN</td>\n",
       "      <td>NaN</td>\n",
       "      <td>NaN</td>\n",
       "    </tr>\n",
       "    <tr>\n",
       "      <th>top</th>\n",
       "      <td>Dr. Martin S. Tesher</td>\n",
       "      <td>NaN</td>\n",
       "      <td>NaN</td>\n",
       "      <td>NaN</td>\n",
       "      <td>NaN</td>\n",
       "      <td>NaN</td>\n",
       "      <td>NaN</td>\n",
       "      <td>NaN</td>\n",
       "      <td>NaN</td>\n",
       "      <td>NaN</td>\n",
       "      <td>NaN</td>\n",
       "    </tr>\n",
       "    <tr>\n",
       "      <th>freq</th>\n",
       "      <td>1</td>\n",
       "      <td>NaN</td>\n",
       "      <td>NaN</td>\n",
       "      <td>NaN</td>\n",
       "      <td>NaN</td>\n",
       "      <td>NaN</td>\n",
       "      <td>NaN</td>\n",
       "      <td>NaN</td>\n",
       "      <td>NaN</td>\n",
       "      <td>NaN</td>\n",
       "      <td>NaN</td>\n",
       "    </tr>\n",
       "    <tr>\n",
       "      <th>mean</th>\n",
       "      <td>NaN</td>\n",
       "      <td>153.316239</td>\n",
       "      <td>344.508547</td>\n",
       "      <td>171.102564</td>\n",
       "      <td>30.247863</td>\n",
       "      <td>4.663823</td>\n",
       "      <td>0.764131</td>\n",
       "      <td>4.709939</td>\n",
       "      <td>0.666732</td>\n",
       "      <td>4.356024</td>\n",
       "      <td>0.738631</td>\n",
       "    </tr>\n",
       "    <tr>\n",
       "      <th>std</th>\n",
       "      <td>NaN</td>\n",
       "      <td>198.333060</td>\n",
       "      <td>437.583966</td>\n",
       "      <td>195.083690</td>\n",
       "      <td>49.263748</td>\n",
       "      <td>0.264010</td>\n",
       "      <td>0.362664</td>\n",
       "      <td>0.225488</td>\n",
       "      <td>0.323622</td>\n",
       "      <td>0.373417</td>\n",
       "      <td>0.237313</td>\n",
       "    </tr>\n",
       "    <tr>\n",
       "      <th>min</th>\n",
       "      <td>NaN</td>\n",
       "      <td>0.000000</td>\n",
       "      <td>1.000000</td>\n",
       "      <td>1.000000</td>\n",
       "      <td>0.000000</td>\n",
       "      <td>3.568182</td>\n",
       "      <td>0.000000</td>\n",
       "      <td>3.581395</td>\n",
       "      <td>0.000000</td>\n",
       "      <td>3.000000</td>\n",
       "      <td>0.000000</td>\n",
       "    </tr>\n",
       "    <tr>\n",
       "      <th>25%</th>\n",
       "      <td>NaN</td>\n",
       "      <td>22.250000</td>\n",
       "      <td>49.250000</td>\n",
       "      <td>30.000000</td>\n",
       "      <td>1.250000</td>\n",
       "      <td>4.527707</td>\n",
       "      <td>0.537979</td>\n",
       "      <td>4.610347</td>\n",
       "      <td>0.450842</td>\n",
       "      <td>4.168779</td>\n",
       "      <td>0.569699</td>\n",
       "    </tr>\n",
       "    <tr>\n",
       "      <th>50%</th>\n",
       "      <td>NaN</td>\n",
       "      <td>76.000000</td>\n",
       "      <td>176.500000</td>\n",
       "      <td>100.000000</td>\n",
       "      <td>10.000000</td>\n",
       "      <td>4.726408</td>\n",
       "      <td>0.751638</td>\n",
       "      <td>4.750469</td>\n",
       "      <td>0.667095</td>\n",
       "      <td>4.444048</td>\n",
       "      <td>0.706477</td>\n",
       "    </tr>\n",
       "    <tr>\n",
       "      <th>75%</th>\n",
       "      <td>NaN</td>\n",
       "      <td>215.500000</td>\n",
       "      <td>470.750000</td>\n",
       "      <td>244.500000</td>\n",
       "      <td>35.750000</td>\n",
       "      <td>4.847491</td>\n",
       "      <td>0.990521</td>\n",
       "      <td>4.873903</td>\n",
       "      <td>0.884008</td>\n",
       "      <td>4.642141</td>\n",
       "      <td>0.887625</td>\n",
       "    </tr>\n",
       "    <tr>\n",
       "      <th>max</th>\n",
       "      <td>NaN</td>\n",
       "      <td>1308.000000</td>\n",
       "      <td>2550.000000</td>\n",
       "      <td>1055.000000</td>\n",
       "      <td>323.000000</td>\n",
       "      <td>5.000000</td>\n",
       "      <td>1.807722</td>\n",
       "      <td>5.000000</td>\n",
       "      <td>1.621765</td>\n",
       "      <td>5.000000</td>\n",
       "      <td>1.511858</td>\n",
       "    </tr>\n",
       "  </tbody>\n",
       "</table>\n",
       "</div>"
      ],
      "text/plain": [
       "                      doctor  number_of_text_reviews  total_number_of_reviews  \\\n",
       "count                    234              234.000000               234.000000   \n",
       "unique                   234                     NaN                      NaN   \n",
       "top     Dr. Martin S. Tesher                     NaN                      NaN   \n",
       "freq                       1                     NaN                      NaN   \n",
       "mean                     NaN              153.316239               344.508547   \n",
       "std                      NaN              198.333060               437.583966   \n",
       "min                      NaN                0.000000                 1.000000   \n",
       "25%                      NaN               22.250000                49.250000   \n",
       "50%                      NaN               76.000000               176.500000   \n",
       "75%                      NaN              215.500000               470.750000   \n",
       "max                      NaN             1308.000000              2550.000000   \n",
       "\n",
       "        number_of_patients  number_of_patients_who_post_more_than_once  \\\n",
       "count           234.000000                                  234.000000   \n",
       "unique                 NaN                                         NaN   \n",
       "top                    NaN                                         NaN   \n",
       "freq                   NaN                                         NaN   \n",
       "mean            171.102564                                   30.247863   \n",
       "std             195.083690                                   49.263748   \n",
       "min               1.000000                                    0.000000   \n",
       "25%              30.000000                                    1.250000   \n",
       "50%             100.000000                                   10.000000   \n",
       "75%             244.500000                                   35.750000   \n",
       "max            1055.000000                                  323.000000   \n",
       "\n",
       "        overall_rating_average  overall_rating_std  \\\n",
       "count               234.000000          233.000000   \n",
       "unique                     NaN                 NaN   \n",
       "top                        NaN                 NaN   \n",
       "freq                       NaN                 NaN   \n",
       "mean                  4.663823            0.764131   \n",
       "std                   0.264010            0.362664   \n",
       "min                   3.568182            0.000000   \n",
       "25%                   4.527707            0.537979   \n",
       "50%                   4.726408            0.751638   \n",
       "75%                   4.847491            0.990521   \n",
       "max                   5.000000            1.807722   \n",
       "\n",
       "        bedside_manner_rating_average  bedside_manner_rating_std  \\\n",
       "count                      234.000000                 233.000000   \n",
       "unique                            NaN                        NaN   \n",
       "top                               NaN                        NaN   \n",
       "freq                              NaN                        NaN   \n",
       "mean                         4.709939                   0.666732   \n",
       "std                          0.225488                   0.323622   \n",
       "min                          3.581395                   0.000000   \n",
       "25%                          4.610347                   0.450842   \n",
       "50%                          4.750469                   0.667095   \n",
       "75%                          4.873903                   0.884008   \n",
       "max                          5.000000                   1.621765   \n",
       "\n",
       "        wait_time_rating_average  wait_time_rating_std  \n",
       "count                 234.000000            233.000000  \n",
       "unique                       NaN                   NaN  \n",
       "top                          NaN                   NaN  \n",
       "freq                         NaN                   NaN  \n",
       "mean                    4.356024              0.738631  \n",
       "std                     0.373417              0.237313  \n",
       "min                     3.000000              0.000000  \n",
       "25%                     4.168779              0.569699  \n",
       "50%                     4.444048              0.706477  \n",
       "75%                     4.642141              0.887625  \n",
       "max                     5.000000              1.511858  "
      ]
     },
     "execution_count": 18,
     "metadata": {},
     "output_type": "execute_result"
    }
   ],
   "source": [
    "doctor_info.describe(include='all')"
   ]
  },
  {
   "cell_type": "markdown",
   "metadata": {},
   "source": [
    "### How useful are the ratings? \n",
    "\n",
    "It seems that the vast majority of ratings are very close to 5 stars. I'll look at some quick histograms to see how these are distributed. "
   ]
  },
  {
   "cell_type": "code",
   "execution_count": 19,
   "metadata": {},
   "outputs": [
    {
     "data": {
      "text/plain": [
       "Text(0.5,1,'Distribution of Overall Ratings (out of 5 stars)')"
      ]
     },
     "execution_count": 19,
     "metadata": {},
     "output_type": "execute_result"
    },
    {
     "data": {
      "image/png": "[encoded data removed]",
      "text/plain": [
       "<matplotlib.figure.Figure at 0x114e58ef0>"
      ]
     },
     "metadata": {},
     "output_type": "display_data"
    }
   ],
   "source": [
    "ax = doctor_info['overall_rating_average'].hist(figsize=(10,5),edgecolor='black', linewidth=1)\n",
    "\n",
    "ax.set_xlabel('Overall Rating Average')\n",
    "ax.set_ylabel('Doctor Count')\n",
    "ax.set_title('Distribution of Overall Ratings (out of 5 stars)')"
   ]
  },
  {
   "cell_type": "code",
   "execution_count": 20,
   "metadata": {},
   "outputs": [
    {
     "data": {
      "text/plain": [
       "Text(0.5,1,'Distribution of Rating Standard Deviation (out of 5 stars)')"
      ]
     },
     "execution_count": 20,
     "metadata": {},
     "output_type": "execute_result"
    },
    {
     "data": {
      "image/png": "[encoded data removed]",
      "text/plain": [
       "<matplotlib.figure.Figure at 0x105ce75f8>"
      ]
     },
     "metadata": {},
     "output_type": "display_data"
    }
   ],
   "source": [
    "ax = doctor_info['overall_rating_std'].hist(figsize=(10,5),edgecolor='black', linewidth=1)\n",
    "\n",
    "ax.set_xlabel('Overall Rating Standard Deviation')\n",
    "ax.set_ylabel('Doctor Count')\n",
    "ax.set_title('Distribution of Rating Standard Deviation (out of 5 stars)')"
   ]
  },
  {
   "cell_type": "code",
   "execution_count": 21,
   "metadata": {},
   "outputs": [
    {
     "data": {
      "text/plain": [
       "Text(0.5,1,'Distribution of Bedside Manner Ratings (out of 5 stars)')"
      ]
     },
     "execution_count": 21,
     "metadata": {},
     "output_type": "execute_result"
    },
    {
     "data": {
      "image/png": "[encoded data removed]",
      "text/plain": [
       "<matplotlib.figure.Figure at 0x1115ae5f8>"
      ]
     },
     "metadata": {},
     "output_type": "display_data"
    }
   ],
   "source": [
    "ax = doctor_info['bedside_manner_rating_average'].hist(figsize=(10,5),edgecolor='black', linewidth=1)\n",
    "\n",
    "ax.set_xlabel('Bedside Manner Average')\n",
    "ax.set_ylabel('Doctor Count')\n",
    "ax.set_title('Distribution of Bedside Manner Ratings (out of 5 stars)')"
   ]
  },
  {
   "cell_type": "code",
   "execution_count": 22,
   "metadata": {},
   "outputs": [
    {
     "data": {
      "text/plain": [
       "Text(0.5,1,'Distribution of Bedside Manner Standard Deviations (out of 5 stars)')"
      ]
     },
     "execution_count": 22,
     "metadata": {},
     "output_type": "execute_result"
    },
    {
     "data": {
      "image/png": "[encoded data removed]",
      "text/plain": [
       "<matplotlib.figure.Figure at 0x10f1eddd8>"
      ]
     },
     "metadata": {},
     "output_type": "display_data"
    }
   ],
   "source": [
    "ax = doctor_info['bedside_manner_rating_std'].hist(figsize=(10,5),edgecolor='black', linewidth=1)\n",
    "\n",
    "ax.set_xlabel('Bedside Manner Standard Deviation')\n",
    "ax.set_ylabel('Doctor Count')\n",
    "ax.set_title('Distribution of Bedside Manner Standard Deviations (out of 5 stars)')"
   ]
  },
  {
   "cell_type": "code",
   "execution_count": 23,
   "metadata": {},
   "outputs": [
    {
     "data": {
      "text/plain": [
       "Text(0.5,1,'Distribution of Wait Time Ratings (out of 5 stars)')"
      ]
     },
     "execution_count": 23,
     "metadata": {},
     "output_type": "execute_result"
    },
    {
     "data": {
      "image/png": "[encoded data removed]",
      "text/plain": [
       "<matplotlib.figure.Figure at 0x1066f47f0>"
      ]
     },
     "metadata": {},
     "output_type": "display_data"
    }
   ],
   "source": [
    "ax = doctor_info['wait_time_rating_average'].hist(figsize=(10,5),edgecolor='black', linewidth=1)\n",
    "\n",
    "ax.set_xlabel('Wait Time Average')\n",
    "ax.set_ylabel('Doctor Count')\n",
    "ax.set_title('Distribution of Wait Time Ratings (out of 5 stars)')"
   ]
  },
  {
   "cell_type": "code",
   "execution_count": 24,
   "metadata": {},
   "outputs": [
    {
     "data": {
      "text/plain": [
       "Text(0.5,1,'Distribution of Wait Time Standard Deviation (out of 5 stars)')"
      ]
     },
     "execution_count": 24,
     "metadata": {},
     "output_type": "execute_result"
    },
    {
     "data": {
      "image/png": "[encoded data removed]",
      "text/plain": [
       "<matplotlib.figure.Figure at 0x11176f278>"
      ]
     },
     "metadata": {},
     "output_type": "display_data"
    }
   ],
   "source": [
    "ax = doctor_info['wait_time_rating_std'].hist(figsize=(10,5),edgecolor='black', linewidth=1)\n",
    "\n",
    "ax.set_xlabel('Wait Time Standard Deviation')\n",
    "ax.set_ylabel('Doctor Count')\n",
    "ax.set_title('Distribution of Wait Time Standard Deviation (out of 5 stars)')"
   ]
  },
  {
   "cell_type": "markdown",
   "metadata": {},
   "source": [
    "#### It looks like the ratings are not going to be so useful in distinguishing between doctors. \n",
    "Most of the ratings are much too close together, between 4 and 5 stars, with small standard deviations. \n",
    "\n",
    "## How are the number of reviews and patients distributed?\n",
    "These quantities (the number of text reviews, the number of patients, and the number of repeat patients) have much higher standard deviations relative to the mean, so they may be more useful in distinguishing between doctors."
   ]
  },
  {
   "cell_type": "code",
   "execution_count": 25,
   "metadata": {},
   "outputs": [
    {
     "data": {
      "text/plain": [
       "Text(0.5,1,'Distribution of text reviews per doctor')"
      ]
     },
     "execution_count": 25,
     "metadata": {},
     "output_type": "execute_result"
    },
    {
     "data": {
      "image/png": "[encoded data removed]",
      "text/plain": [
       "<matplotlib.figure.Figure at 0x11179a6a0>"
      ]
     },
     "metadata": {},
     "output_type": "display_data"
    }
   ],
   "source": [
    "ax = doctor_info['number_of_text_reviews'].hist(figsize=(10,5),edgecolor='black', linewidth=1)\n",
    "\n",
    "ax.set_xlabel('Number of text reviews')\n",
    "ax.set_ylabel('Doctor Count')\n",
    "ax.set_title('Distribution of text reviews per doctor')"
   ]
  },
  {
   "cell_type": "code",
   "execution_count": 26,
   "metadata": {},
   "outputs": [
    {
     "data": {
      "text/plain": [
       "Text(0.5,1,'Distribution of Unique Patients per Doctor')"
      ]
     },
     "execution_count": 26,
     "metadata": {},
     "output_type": "execute_result"
    },
    {
     "data": {
      "image/png": "[encoded data removed]",
      "text/plain": [
       "<matplotlib.figure.Figure at 0x111c97d30>"
      ]
     },
     "metadata": {},
     "output_type": "display_data"
    }
   ],
   "source": [
    "ax = doctor_info['number_of_patients'].hist(figsize=(10,5),edgecolor='black', linewidth=1)\n",
    "\n",
    "ax.set_xlabel('Number of Patients')\n",
    "ax.set_ylabel('Doctor Count')\n",
    "ax.set_title('Distribution of Unique Patients per Doctor')"
   ]
  },
  {
   "cell_type": "code",
   "execution_count": 27,
   "metadata": {},
   "outputs": [
    {
     "data": {
      "text/plain": [
       "Text(0.5,1,'Distribution of Repeat Patients per Doctor')"
      ]
     },
     "execution_count": 27,
     "metadata": {},
     "output_type": "execute_result"
    },
    {
     "data": {
      "image/png": "[encoded data removed]",
      "text/plain": [
       "<matplotlib.figure.Figure at 0x112647f28>"
      ]
     },
     "metadata": {},
     "output_type": "display_data"
    }
   ],
   "source": [
    "ax = doctor_info['number_of_patients_who_post_more_than_once'].hist(figsize=(10,5),edgecolor='black', linewidth=1)\n",
    "\n",
    "ax.set_xlabel('Number of Repeat Patients')\n",
    "ax.set_ylabel('Doctor Count')\n",
    "ax.set_title('Distribution of Repeat Patients per Doctor')"
   ]
  },
  {
   "cell_type": "markdown",
   "metadata": {},
   "source": [
    "These distributions seem a lot more reasonable. Most doctors have fewer reviews, patients, and repeat patients, and the number of doctors gets smaller to more patients/reviews they have. This can be used to recognize when a doctor is more established or has more patient loyalty/longevity. \n",
    "\n",
    "I'll also look at some scatter plots relating the number of reviews, the number of patients, and the number of repeat patients to look for any outliers and make sure there is no review fraud going on. "
   ]
  },
  {
   "cell_type": "code",
   "execution_count": 28,
   "metadata": {},
   "outputs": [
    {
     "data": {
      "text/plain": [
       "Text(0,0.5,'number of patients')"
      ]
     },
     "execution_count": 28,
     "metadata": {},
     "output_type": "execute_result"
    },
    {
     "data": {
      "image/png": "[encoded data removed]",
      "text/plain": [
       "<matplotlib.figure.Figure at 0x112684710>"
      ]
     },
     "metadata": {},
     "output_type": "display_data"
    }
   ],
   "source": [
    "plt.figure(figsize=(5,5))\n",
    "plt.scatter(x=doctor_info['number_of_text_reviews'], y=doctor_info['number_of_patients'])\n",
    "\n",
    "plt.xlabel('number of reviews')\n",
    "plt.ylabel('number of patients')"
   ]
  },
  {
   "cell_type": "code",
   "execution_count": 29,
   "metadata": {},
   "outputs": [
    {
     "data": {
      "text/plain": [
       "Text(0,0.5,'number of repeat patients')"
      ]
     },
     "execution_count": 29,
     "metadata": {},
     "output_type": "execute_result"
    },
    {
     "data": {
      "image/png": "[encoded data removed]",
      "text/plain": [
       "<matplotlib.figure.Figure at 0x112b917f0>"
      ]
     },
     "metadata": {},
     "output_type": "display_data"
    }
   ],
   "source": [
    "plt.figure(figsize=(5,5))\n",
    "plt.scatter(x=doctor_info['number_of_text_reviews'], y=doctor_info['number_of_patients_who_post_more_than_once'])\n",
    "\n",
    "plt.xlabel('number of reviews')\n",
    "plt.ylabel('number of repeat patients')"
   ]
  },
  {
   "cell_type": "code",
   "execution_count": 30,
   "metadata": {},
   "outputs": [
    {
     "data": {
      "text/plain": [
       "Text(0,0.5,'number of repeat patients')"
      ]
     },
     "execution_count": 30,
     "metadata": {},
     "output_type": "execute_result"
    },
    {
     "data": {
      "image/png": "[encoded data removed]",
      "text/plain": [
       "<matplotlib.figure.Figure at 0x112c3d160>"
      ]
     },
     "metadata": {},
     "output_type": "display_data"
    }
   ],
   "source": [
    "plt.figure(figsize=(5,5))\n",
    "plt.scatter(x=doctor_info['number_of_patients'], y=doctor_info['number_of_patients_who_post_more_than_once'])\n",
    "\n",
    "plt.xlabel('number of patients')\n",
    "plt.ylabel('number of repeat patients')"
   ]
  },
  {
   "cell_type": "markdown",
   "metadata": {},
   "source": [
    "All three of these plots seem reasonable. There is a strong, positive correlation between the number of reviews, the number of patients, and the number of repeat patients. This is exactly what I would expect. "
   ]
  },
  {
   "cell_type": "markdown",
   "metadata": {},
   "source": [
    "Next, I'll look at the relationship between the number of times a review is repeated and the length of the review. I expect that shorter reviews (1 or 2 words) will be repeated more than longer reviews. "
   ]
  },
  {
   "cell_type": "code",
   "execution_count": 31,
   "metadata": {
    "collapsed": true
   },
   "outputs": [],
   "source": [
    "review_info = pd.DataFrame(columns=['review','number_of_times_repeated','number_of_words'])"
   ]
  },
  {
   "cell_type": "code",
   "execution_count": 32,
   "metadata": {
    "collapsed": true
   },
   "outputs": [],
   "source": [
    "review_info['review'] = list(set(review_list))"
   ]
  },
  {
   "cell_type": "code",
   "execution_count": 33,
   "metadata": {},
   "outputs": [],
   "source": [
    "review_info['number_of_words'] = review_info['review'].apply(lambda x: len(x.split()))"
   ]
  },
  {
   "cell_type": "code",
   "execution_count": 34,
   "metadata": {
    "scrolled": true
   },
   "outputs": [],
   "source": [
    "review_info['number_of_times_repeated'] = review_info['review'].apply(lambda x: data.loc[data['Review']==x].shape[0])"
   ]
  },
  {
   "cell_type": "code",
   "execution_count": 35,
   "metadata": {},
   "outputs": [
    {
     "data": {
      "text/html": [
       "<div>\n",
       "<style>\n",
       "    .dataframe thead tr:only-child th {\n",
       "        text-align: right;\n",
       "    }\n",
       "\n",
       "    .dataframe thead th {\n",
       "        text-align: left;\n",
       "    }\n",
       "\n",
       "    .dataframe tbody tr th {\n",
       "        vertical-align: top;\n",
       "    }\n",
       "</style>\n",
       "<table border=\"1\" class=\"dataframe\">\n",
       "  <thead>\n",
       "    <tr style=\"text-align: right;\">\n",
       "      <th></th>\n",
       "      <th>review</th>\n",
       "      <th>number_of_times_repeated</th>\n",
       "      <th>number_of_words</th>\n",
       "    </tr>\n",
       "  </thead>\n",
       "  <tbody>\n",
       "    <tr>\n",
       "      <th>0</th>\n",
       "      <td>Super cool great service highly recommend  to...</td>\n",
       "      <td>1</td>\n",
       "      <td>8</td>\n",
       "    </tr>\n",
       "    <tr>\n",
       "      <th>1</th>\n",
       "      <td>really nice guy who was helpful and knowledgeable</td>\n",
       "      <td>1</td>\n",
       "      <td>8</td>\n",
       "    </tr>\n",
       "    <tr>\n",
       "      <th>2</th>\n",
       "      <td>Very nice and timely.</td>\n",
       "      <td>1</td>\n",
       "      <td>4</td>\n",
       "    </tr>\n",
       "    <tr>\n",
       "      <th>3</th>\n",
       "      <td>The doctor was great, but not a big fan of how...</td>\n",
       "      <td>1</td>\n",
       "      <td>74</td>\n",
       "    </tr>\n",
       "    <tr>\n",
       "      <th>4</th>\n",
       "      <td>Great as usual!</td>\n",
       "      <td>1</td>\n",
       "      <td>3</td>\n",
       "    </tr>\n",
       "  </tbody>\n",
       "</table>\n",
       "</div>"
      ],
      "text/plain": [
       "                                              review  \\\n",
       "0   Super cool great service highly recommend  to...   \n",
       "1  really nice guy who was helpful and knowledgeable   \n",
       "2                              Very nice and timely.   \n",
       "3  The doctor was great, but not a big fan of how...   \n",
       "4                                    Great as usual!   \n",
       "\n",
       "   number_of_times_repeated  number_of_words  \n",
       "0                         1                8  \n",
       "1                         1                8  \n",
       "2                         1                4  \n",
       "3                         1               74  \n",
       "4                         1                3  "
      ]
     },
     "execution_count": 35,
     "metadata": {},
     "output_type": "execute_result"
    }
   ],
   "source": [
    "review_info.head()"
   ]
  },
  {
   "cell_type": "code",
   "execution_count": 36,
   "metadata": {},
   "outputs": [
    {
     "data": {
      "text/plain": [
       "1     34767\n",
       "2       142\n",
       "3        52\n",
       "4        16\n",
       "6        13\n",
       "5        12\n",
       "8         6\n",
       "7         5\n",
       "9         5\n",
       "19        2\n",
       "12        2\n",
       "13        2\n",
       "11        1\n",
       "10        1\n",
       "45        1\n",
       "14        1\n",
       "15        1\n",
       "35        1\n",
       "48        1\n",
       "17        1\n",
       "33        1\n",
       "23        1\n",
       "Name: number_of_times_repeated, dtype: int64"
      ]
     },
     "execution_count": 36,
     "metadata": {},
     "output_type": "execute_result"
    }
   ],
   "source": [
    "review_info['number_of_times_repeated'].value_counts()"
   ]
  },
  {
   "cell_type": "code",
   "execution_count": 37,
   "metadata": {},
   "outputs": [
    {
     "data": {
      "text/plain": [
       "Text(0.5,1,'Number of Times Repeated vs Number of Words')"
      ]
     },
     "execution_count": 37,
     "metadata": {},
     "output_type": "execute_result"
    },
    {
     "data": {
      "image/png": "[encoded data removed]",
      "text/plain": [
       "<matplotlib.figure.Figure at 0x112ce1470>"
      ]
     },
     "metadata": {},
     "output_type": "display_data"
    }
   ],
   "source": [
    "plt.figure(figsize=(10,5))\n",
    "plt.scatter(x=review_info['number_of_words'],y=review_info['number_of_times_repeated'])\n",
    "\n",
    "\n",
    "plt.xlabel('Number of Words')\n",
    "plt.ylabel('Number of Times Repeated')\n",
    "plt.title('Number of Times Repeated vs Number of Words')"
   ]
  },
  {
   "cell_type": "code",
   "execution_count": 38,
   "metadata": {},
   "outputs": [
    {
     "data": {
      "text/plain": [
       "Text(0.5,1,'Distribution of Review Length')"
      ]
     },
     "execution_count": 38,
     "metadata": {},
     "output_type": "execute_result"
    },
    {
     "data": {
      "image/png": "[encoded data removed]",
      "text/plain": [
       "<matplotlib.figure.Figure at 0x112d10278>"
      ]
     },
     "metadata": {},
     "output_type": "display_data"
    }
   ],
   "source": [
    "ax = review_info['number_of_words'].hist(figsize=(10,5),edgecolor='black', linewidth=1, bins = range(0,200,1))\n",
    "ax.set_xlabel('Number of Words')\n",
    "ax.set_ylabel('Review Count')\n",
    "ax.set_title('Distribution of Review Length')"
   ]
  },
  {
   "cell_type": "markdown",
   "metadata": {},
   "source": [
    "These plots make sense and match what I would expect. There are many more short reviews, as the number of words  increases, the number of reviews decreases. Also, short reviews are repeated, and longer reviews are not repeated. "
   ]
  },
  {
   "cell_type": "code",
   "execution_count": null,
   "metadata": {
    "collapsed": true
   },
   "outputs": [],
   "source": []
  }
 ],
 "metadata": {
  "kernelspec": {
   "display_name": "Python 3",
   "language": "python",
   "name": "python3"
  },
  "language_info": {
   "codemirror_mode": {
    "name": "ipython",
    "version": 3
   },
   "file_extension": ".py",
   "mimetype": "text/x-python",
   "name": "python",
   "nbconvert_exporter": "python",
   "pygments_lexer": "ipython3",
   "version": "3.6.2"
  }
 },
 "nbformat": 4,
 "nbformat_minor": 2
}
